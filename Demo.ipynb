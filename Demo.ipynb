{
 "cells": [
  {
   "cell_type": "markdown",
   "metadata": {},
   "source": [
    "# Outpost News Article Analysis Tools"
   ]
  },
  {
   "cell_type": "markdown",
   "metadata": {},
   "source": [
    "### Get the Text"
   ]
  },
  {
   "cell_type": "code",
   "execution_count": 2,
   "metadata": {},
   "outputs": [],
   "source": [
    "file = open(\"fox.txt\", \"r\")\n",
    "text = file.read()\n",
    "file.close()"
   ]
  },
  {
   "cell_type": "markdown",
   "metadata": {},
   "source": [
    "### Summarization"
   ]
  },
  {
   "cell_type": "code",
   "execution_count": 3,
   "metadata": {},
   "outputs": [],
   "source": [
    "from statistical_summarize import run_statistical_summarizers"
   ]
  },
  {
   "cell_type": "code",
   "execution_count": 4,
   "metadata": {},
   "outputs": [
    {
     "name": "stdout",
     "output_type": "stream",
     "text": [
      "**********Statistical Summarizations**********\n",
      "\n",
      "\n",
      "TF IDF Summary:\n",
      "5 of the most tense moments from Tuesday's State of the Union\n",
      "The U.S. Capitol was tense Tuesday night as President Trump delivered his highly anticipated State of the Union address. Here are five of the most stressful moments of the night. Trump appeared to snub Pelosi as he ignored her outreached hand  an attempt at a handshake  and turned his attention back to the House floor. Pelosi visibly pursed her lips at the awkward exchange. She then went on to execute a snub of her own, when she broke from protocol and introduced Trump to the chamber with an amended introduction. The night was filled with dozens of standing ovations and cheers from Republican supporters of Trump. But there were a few moments of audible groans or refusals to clap from Democrats as well. Limbaugh, 69, has hosted “The Rush Limbaugh Show” since 1988 and drawn criticism from the left over rhetoric they deem offensive and racist. Fred Guttenberg, whose 14yearold daughter, Jamie, died in the 2018 shooting, was removed from the gallery for his outburst. Guttenberg later apologized on Twitter, saying he \"let my emotions get the best of me.\" \n",
      "\n",
      "\n",
      "Word Frequency Summary:\n",
      "Here are five of the most stressful moments of the night. After entering the House chamber, Trump began handing out copies of his speech to Vice President Pence and House Speaker Nancy Pelosi, DCalif., who spearheaded charges of impeachment against the president. She then went on to execute a snub of her own, when she broke from protocol and introduced Trump to the chamber with an amended introduction. \"Members of Congress, the President of the United States,\" Pelosi said. The standard introduction for a State of the Union is: \"Members of Congress, I have the high privilege and distinct honor of presenting to you the President of the United States.\" Although many Republicans cheered and shouted \"We love you, Rush,\" as first lady Melania Trump bestowed the award, Democrats were audible in the gallery murmuring \"No\" to the award. Fred Guttenberg, whose 14yearold daughter, Jamie, died in the 2018 shooting, was removed from the gallery for his outburst. Guttenberg later apologized on Twitter, saying he \"let my emotions get the best of me.\" In one final gesture of division between Democrats and Republicans, Pelosi stood at the end of Trump's address and tore up the transcript of his speech. Speaking to reporters after she left the gallery, Pelosi said: \"He shredded the truth, so I shredded his speech.\"  \n",
      "\n",
      "\n"
     ]
    }
   ],
   "source": [
    "run_statistical_summarizers(text, num_sentences=10)"
   ]
  },
  {
   "cell_type": "markdown",
   "metadata": {},
   "source": [
    "### Subjectivity Analysis"
   ]
  },
  {
   "cell_type": "code",
   "execution_count": 7,
   "metadata": {},
   "outputs": [],
   "source": [
    "from subjectivity_analysis import run_subjectivity"
   ]
  },
  {
   "cell_type": "code",
   "execution_count": 8,
   "metadata": {},
   "outputs": [
    {
     "name": "stdout",
     "output_type": "stream",
     "text": [
      "******************Full Subjectivity Analysis******************\n",
      "\n",
      "\n",
      "Most Subjective:\n",
      "\n",
      "Score: 1.0\n",
      "Sentence:\n",
      "In one final gesture of division between Democrats and Republicans, Pelosi stood at the end of Trump's address and tore up the transcript of his speech.\n",
      "\n",
      "Score: 1.0\n",
      "Sentence:\n",
      "She then went on to execute a snub of her own, when she broke from protocol and introduced Trump to the chamber with an amended introduction.\n",
      "\n",
      "Score: 1.0\n",
      "Sentence:\n",
      "Pelosi visibly pursed her lips at the awkward exchange.\n",
      "\n",
      "\n",
      "\n",
      "*********\n",
      "Least Subjective:\n",
      "Score: 0.0\n",
      "Sentence:\n",
      "After entering the House chamber, Trump began handing out copies of his speech to Vice President Pence and House Speaker Nancy Pelosi, DCalif., who spearheaded charges of impeachment against the president.\n",
      "\n",
      "Score: 0.0\n",
      "Sentence:\n",
      "Trump appeared to snub Pelosi as he ignored her outreached hand  an attempt at a handshake  and turned his attention back to the House floor.\n",
      "\n",
      "Score: 0.0\n",
      "Sentence:\n",
      "\"Members of Congress, the President of the United States,\" Pelosi said.\n",
      "\n"
     ]
    }
   ],
   "source": [
    "run_subjectivity(text, num_sentences=3)"
   ]
  },
  {
   "cell_type": "markdown",
   "metadata": {},
   "source": [
    "### Sentiment Analysis"
   ]
  },
  {
   "cell_type": "code",
   "execution_count": 5,
   "metadata": {},
   "outputs": [],
   "source": [
    "from sentiment_analysis import run_sentiment_analysis"
   ]
  },
  {
   "cell_type": "code",
   "execution_count": 6,
   "metadata": {},
   "outputs": [
    {
     "name": "stdout",
     "output_type": "stream",
     "text": [
      "\n",
      "\n",
      "************Full Sentiment Analysis************\n",
      "\n",
      "\n",
      "\n",
      "\n",
      "Technique 1: Flair\n",
      "\n",
      "2020-08-18 18:24:35,736 loading file /Users/jackweissenberger/.flair/models/sentiment-en-mix-distillbert.pt\n",
      "Top Positive Sentences:\n",
      "Score: 0.9889174699783325\n",
      "Sentence:\n",
      "The night was filled with dozens of standing ovations and cheers from Republican supporters of Trump.\n",
      "Score: 0.988013505935669\n",
      "Sentence:\n",
      "The standard introduction for a State of the Union is: \"Members of Congress, I have the high privilege and distinct honor of presenting to you the President of the United States.\"\n",
      "Score: 0.8758341670036316\n",
      "Sentence:\n",
      "Here are five of the most stressful moments of the night.\n",
      "\n",
      "\n",
      "*********\n",
      "Top Negative Sentences:\n",
      "Score: 0.9999030828475952\n",
      "Sentence:\n",
      "In one final gesture of division between Democrats and Republicans, Pelosi stood at the end of Trump's address and tore up the transcript of his speech.\n",
      "Score: 0.9985339641571045\n",
      "Sentence:\n",
      "Speaking to reporters after she left the gallery, Pelosi said: \"He shredded the truth, so I shredded his speech.\"\n",
      "Score: 0.998066246509552\n",
      "Sentence:\n",
      "For example, as Trump touted his administration's economy and job growth and slammed the \"failed\" economic policies of the Obama administration, Democrats throughout the gallery jeered and shook their heads.\n",
      "\n",
      "\n",
      "***********************************************\n",
      "\n",
      "\n",
      "Technique 2: Textblob\n",
      "\n",
      "Score: 0.6\n",
      "Sentence:\n",
      "She then went on to execute a snub of her own, when she broke from protocol and introduced Trump to the chamber with an amended introduction.\n",
      "Score: 0.5\n",
      "Sentence:\n",
      "Guttenberg later apologized on Twitter, saying he \"let my emotions get the best of me.\"\n",
      "Score: 0.5\n",
      "Sentence:\n",
      "Here are five of the most stressful moments of the night.\n",
      "\n",
      "\n",
      "*********\n",
      "Top Negative Sentences:\n",
      "Score: -0.6\n",
      "Sentence:\n",
      "Pelosi visibly pursed her lips at the awkward exchange.\n",
      "Score: -0.2\n",
      "Sentence:\n",
      "But there were a few moments of audible groans or refusals to clap from Democrats as well.\n",
      "Score: -0.15\n",
      "Sentence:\n",
      "For example, as Trump touted his administration's economy and job growth and slammed the \"failed\" economic policies of the Obama administration, Democrats throughout the gallery jeered and shook their heads.\n",
      "\n",
      "\n",
      "***********************************************\n",
      "\n",
      "\n",
      "Technique 3: NLTK\n",
      "\n",
      "This technique returns 3 scores, Negative, Positive and Neutral\n",
      "\n",
      "Top Positive Sentences:\n",
      "Positive Score: 0.367, Negative Score: 0.0, Neutral Score: 0.633\n",
      "Sentence:\n",
      "Although many Republicans cheered and shouted \"We love you, Rush,\" as first lady Melania Trump bestowed the award, Democrats were audible in the gallery murmuring \"No\" to the award.\n",
      "\n",
      "Positive Score: 0.333, Negative Score: 0.0, Neutral Score: 0.667\n",
      "Sentence:\n",
      "Guttenberg later apologized on Twitter, saying he \"let my emotions get the best of me.\"\n",
      "\n",
      "Positive Score: 0.3, Negative Score: 0.0, Neutral Score: 0.7\n",
      "Sentence:\n",
      "The night was filled with dozens of standing ovations and cheers from Republican supporters of Trump.\n",
      "\n",
      "\n",
      "\n",
      "*********\n",
      "Top Negative Sentences:\n",
      "Positive Score: 0.115, Negative Score: 0.346, Neutral Score: 0.539\n",
      "Sentence:\n",
      "As Trump reiterated his commitment to protecting Second Amendment rights, the father of a victim killed in the Parkland school shooting, shouted out, \"What about victims of gun violence like my daughter?\"\n",
      "\n",
      "Positive Score: 0.0, Negative Score: 0.331, Neutral Score: 0.669\n",
      "Sentence:\n",
      "Limbaugh, 69, has hosted “The Rush Limbaugh Show” since 1988 and drawn criticism from the left over rhetoric they deem offensive and racist.\n",
      "\n",
      "Positive Score: 0.0, Negative Score: 0.264, Neutral Score: 0.736\n",
      "Sentence:\n",
      "Here are five of the most stressful moments of the night.\n",
      "\n",
      "\n",
      "\n",
      "*********\n",
      "Top Neutral Sentences:\n",
      "Positive Score: 0.0, Negative Score: 0.0, Neutral Score: 1.0\n",
      "Sentence:\n",
      "In one final gesture of division between Democrats and Republicans, Pelosi stood at the end of Trump's address and tore up the transcript of his speech.\n",
      "\n",
      "Positive Score: 0.0, Negative Score: 0.065, Neutral Score: 0.935\n",
      "Sentence:\n",
      "After entering the House chamber, Trump began handing out copies of his speech to Vice President Pence and House Speaker Nancy Pelosi, DCalif., who spearheaded charges of impeachment against the president.\n",
      "\n",
      "Positive Score: 0.119, Negative Score: 0.0, Neutral Score: 0.881\n",
      "Sentence:\n",
      "Speaking to reporters after she left the gallery, Pelosi said: \"He shredded the truth, so I shredded his speech.\"\n",
      "\n"
     ]
    }
   ],
   "source": [
    "run_sentiment_analysis(text, num_sentences=3)"
   ]
  }
 ],
 "metadata": {
  "kernelspec": {
   "display_name": "Python 3",
   "language": "python",
   "name": "python3"
  },
  "language_info": {
   "codemirror_mode": {
    "name": "ipython",
    "version": 3
   },
   "file_extension": ".py",
   "mimetype": "text/x-python",
   "name": "python",
   "nbconvert_exporter": "python",
   "pygments_lexer": "ipython3",
   "version": "3.7.7"
  }
 },
 "nbformat": 4,
 "nbformat_minor": 4
}
