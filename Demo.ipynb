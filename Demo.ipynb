{
 "cells": [
  {
   "cell_type": "markdown",
   "metadata": {},
   "source": [
    "# News Summarization"
   ]
  },
  {
   "cell_type": "markdown",
   "metadata": {},
   "source": [
    "### Scrape the article you want to summarize"
   ]
  },
  {
   "cell_type": "code",
   "execution_count": 1,
   "metadata": {},
   "outputs": [],
   "source": [
    "from scraping import return_single_article\n",
    "article = return_single_article('https://www.cnn.com/2020/10/20/politics/joe-biden-tax-plan/index.html')"
   ]
  },
  {
   "cell_type": "code",
   "execution_count": 4,
   "metadata": {},
   "outputs": [
    {
     "name": "stdout",
     "output_type": "stream",
     "text": [
      "What you need to know about Joe Biden's tax plan \n",
      "\n",
      "\n",
      "By Analysis Katie Lobosco \n",
      "\n",
      "\n",
      "CNN \n",
      "\n",
      "\n",
      "Washington (CNN) Democratic presidential candidate Joe Biden has put forth several proposals that would change the tax code.\n",
      "\n",
      "In general, he's proposing to raise taxes on the wealthy and on corporations by reversing some of the Republican-backed tax cuts that President Donald Trump signed into law in 2017.\n",
      "\n",
      "It's unlikely that Biden's campaign plans would come to fruition just as he's proposed them, even if he wins the election. He'd have an easier time getting them passed if Democrats also take back the Senate and maintain control of the House.\n",
      "\n",
      "Here's what you need to know:\n",
      "\n",
      "Biden pledges not raise taxes on anyone earning less than $400,000 \n",
      "\n",
      "\n"
     ]
    }
   ],
   "source": [
    "print(article['title'], '\\n\\n')\n",
    "print(article['authors'], '\\n\\n')\n",
    "print(article['source'], '\\n\\n')\n",
    "print(article['article'], '\\n\\n')"
   ]
  },
  {
   "cell_type": "markdown",
   "metadata": {},
   "source": [
    "### Summarization"
   ]
  },
  {
   "cell_type": "code",
   "execution_count": 5,
   "metadata": {},
   "outputs": [],
   "source": [
    "from hf_summarizer import bart_summarize"
   ]
  },
  {
   "cell_type": "code",
   "execution_count": 6,
   "metadata": {},
   "outputs": [],
   "source": [
    "# this function uses this model: https://huggingface.co/sshleifer/distilbart-cnn-12-6\n",
    "# which is a bert-like model trained on the cnn-dailymail dataset\n",
    "# its one of the best summarization models available in transformers, very fast, good for deployment\n",
    "summary = bart_summarize(article['article'])"
   ]
  },
  {
   "cell_type": "code",
   "execution_count": 7,
   "metadata": {},
   "outputs": [
    {
     "data": {
      "text/plain": [
       "\" Democratic presidential candidate Joe Biden has put forth several proposals that would change the tax code. He's proposing to raise taxes on the wealthy and on corporations by reversing some of the Republican-backed tax cuts signed into law in 2017. It's unlikely that Biden's campaign plans would come to fruition just as he's proposed them, even if he wins the election.\""
      ]
     },
     "execution_count": 7,
     "metadata": {},
     "output_type": "execute_result"
    }
   ],
   "source": [
    "summary"
   ]
  },
  {
   "cell_type": "markdown",
   "metadata": {},
   "source": [
    "#### There are many other summary options available in hf_summarizer.py including different pegasus models, t5 and methods that address the issues with these summarizers (like the fact that some of these summarizers can only have limited size inputs)"
   ]
  },
  {
   "cell_type": "markdown",
   "metadata": {},
   "source": [
    "### Statistical Summarization"
   ]
  },
  {
   "cell_type": "code",
   "execution_count": 8,
   "metadata": {},
   "outputs": [],
   "source": [
    "from statistical_summarize import run_statistical_summarizers"
   ]
  },
  {
   "cell_type": "code",
   "execution_count": 9,
   "metadata": {},
   "outputs": [
    {
     "name": "stdout",
     "output_type": "stream",
     "text": [
      "**********Statistical Summarizations**********\n",
      "\n",
      "\n",
      "TF IDF Summary:\n",
      "Washington (CNN) Democratic presidential candidate Joe Biden has put forth several proposals that would change the tax code.\n",
      "\n",
      "In general, he's proposing to raise taxes on the wealthy and on corporations by reversing some of the Republican-backed tax cuts that President Donald Trump signed into law in 2017.\n",
      "\n",
      "It's unlikely that Biden's campaign plans would come to fruition just as he's proposed them, even if he wins the election. He'd have an easier time getting them passed if Democrats also take back the Senate and maintain control of the House.\n",
      "\n",
      "Here's what you need to know:\n",
      "\n",
      "Biden pledges not raise taxes on anyone earning less than $400,000\n",
      "\n",
      "\n",
      "Word Frequency Summary:\n",
      "Washington (CNN) Democratic presidential candidate Joe Biden has put forth several proposals that would change the tax code.\n",
      "\n",
      "In general, he's proposing to raise taxes on the wealthy and on corporations by reversing some of the Republican-backed tax cuts that President Donald Trump signed into law in 2017.\n",
      "\n",
      "It's unlikely that Biden's campaign plans would come to fruition just as he's proposed them, even if he wins the election. He'd have an easier time getting them passed if Democrats also take back the Senate and maintain control of the House.\n",
      "\n",
      "Here's what you need to know:\n",
      "\n",
      "Biden pledges not raise taxes on anyone earning less than $400,000 \n",
      "\n",
      "\n"
     ]
    }
   ],
   "source": [
    "run_statistical_summarizers(text=article['article'], num_sentences=5)"
   ]
  },
  {
   "cell_type": "markdown",
   "metadata": {},
   "source": [
    "#### These statistical techniques do not use any Machine Learning algorithms but are very fast and give a decent result"
   ]
  },
  {
   "cell_type": "markdown",
   "metadata": {},
   "source": [
    "### Sentiment Analysis"
   ]
  },
  {
   "cell_type": "code",
   "execution_count": 10,
   "metadata": {},
   "outputs": [],
   "source": [
    "from sentiment_analysis import hf_topn_sentiment"
   ]
  },
  {
   "cell_type": "code",
   "execution_count": 11,
   "metadata": {},
   "outputs": [],
   "source": [
    "# this function returns the top positive and top negative sentences from a piece of text,\n",
    "# not exactly summarization but can get the most polarizing lines from an article\n",
    "top_positive, top_negative = hf_topn_sentiment(article['article'])"
   ]
  },
  {
   "cell_type": "code",
   "execution_count": 12,
   "metadata": {},
   "outputs": [
    {
     "data": {
      "text/plain": [
       "[(0.5798031091690063,\n",
       "  \"In general, he's proposing to raise taxes on the wealthy and on corporations by reversing some of the Republican-backed tax cuts that President Donald Trump signed into law in 2017.\"),\n",
       " (0.9804840087890625,\n",
       "  'Washington (CNN) Democratic presidential candidate Joe Biden has put forth several proposals that would change the tax code.')]"
      ]
     },
     "execution_count": 12,
     "metadata": {},
     "output_type": "execute_result"
    }
   ],
   "source": [
    "top_positive"
   ]
  },
  {
   "cell_type": "code",
   "execution_count": 13,
   "metadata": {},
   "outputs": [
    {
     "data": {
      "text/plain": [
       "[(0.9953889846801758,\n",
       "  \"It's unlikely that Biden's campaign plans would come to fruition just as he's proposed them, even if he wins the election.\"),\n",
       " (0.999197244644165,\n",
       "  \"He'd have an easier time getting them passed if Democrats also take back the Senate and maintain control of the House.\")]"
      ]
     },
     "execution_count": 13,
     "metadata": {},
     "output_type": "execute_result"
    }
   ],
   "source": [
    "top_negative"
   ]
  },
  {
   "cell_type": "code",
   "execution_count": null,
   "metadata": {},
   "outputs": [],
   "source": []
  },
  {
   "cell_type": "markdown",
   "metadata": {},
   "source": [
    "### Theres serveral other good methods hidden in here, like subjectivity analysis and a plagiarism checker. All of this is wrapped in an easy to use web app in my `jweissenberger/newsletter` repo"
   ]
  }
 ],
 "metadata": {
  "kernelspec": {
   "display_name": "Python 3",
   "language": "python",
   "name": "python3"
  },
  "language_info": {
   "codemirror_mode": {
    "name": "ipython",
    "version": 3
   },
   "file_extension": ".py",
   "mimetype": "text/x-python",
   "name": "python",
   "nbconvert_exporter": "python",
   "pygments_lexer": "ipython3",
   "version": "3.7.7"
  }
 },
 "nbformat": 4,
 "nbformat_minor": 4
}
