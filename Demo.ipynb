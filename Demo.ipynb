{
 "cells": [
  {
   "cell_type": "markdown",
   "metadata": {},
   "source": [
    "# Outpost News Article Analysis Tools"
   ]
  },
  {
   "cell_type": "markdown",
   "metadata": {},
   "source": [
    "### Get the Text"
   ]
  },
  {
   "cell_type": "code",
   "execution_count": 5,
   "metadata": {},
   "outputs": [],
   "source": [
    "file = open(\"fox.txt\", \"r\")\n",
    "text = file.read()\n",
    "file.close()"
   ]
  },
  {
   "cell_type": "markdown",
   "metadata": {},
   "source": [
    "### Summarization Tools"
   ]
  },
  {
   "cell_type": "markdown",
   "metadata": {},
   "source": [
    "Neural Network based approaches:\n",
    "\n",
    "These will provide some new text but will also pull important sentences from text"
   ]
  },
  {
   "cell_type": "code",
   "execution_count": 16,
   "metadata": {},
   "outputs": [],
   "source": [
    "from pegasus_summarize import part_by_part_summarization"
   ]
  },
  {
   "cell_type": "markdown",
   "metadata": {},
   "source": [
    "Warning: this will probably take a couple of minutes"
   ]
  },
  {
   "cell_type": "code",
   "execution_count": 17,
   "metadata": {},
   "outputs": [
    {
     "data": {
      "text/plain": [
       "'. # tense moments from the state of the union. a look at some of the boos and cheers at the state of the union. in an emotional tribute to conservative talk show host. father of victim in school shooting shouted out at president'"
      ]
     },
     "execution_count": 17,
     "metadata": {},
     "output_type": "execute_result"
    }
   ],
   "source": [
    "part_by_part_summarization(text, model_name='gigaword', model_dir='model/gigaword/')"
   ]
  },
  {
   "cell_type": "code",
   "execution_count": 18,
   "metadata": {},
   "outputs": [
    {
     "data": {
      "text/plain": [
       "'. The U.S. Capitol was tense Tuesday night as President Trump delivered his highly anticipated State of the Union address .<n>Here are five of the most stressful moments of the night .. \"Members of Congress, the President of the United States,\" Pelosi said .. Rush Limbaugh has hosted \"The Rush Limbaugh Show\" since 1988 .<n>Limbaugh, 69, has hosted \"The Rush Limbaugh Show\" since 1988 .. Fred Guttenberg, whose daughter died in the 2018 shooting, was removed from the gallery for his outburst .<n>Guttenberg later apologized on Twitter, saying he \"let my emotions get the best of me\"'"
      ]
     },
     "execution_count": 18,
     "metadata": {},
     "output_type": "execute_result"
    }
   ],
   "source": [
    "part_by_part_summarization(text, model_name='cnn_dailymail', model_dir='model/cnn_dailymail/')"
   ]
  },
  {
   "cell_type": "markdown",
   "metadata": {},
   "source": [
    "<br />Statistical approaches:\n",
    "<br />These will remove the most important sentences from articles based off of what is most important"
   ]
  },
  {
   "cell_type": "code",
   "execution_count": 19,
   "metadata": {},
   "outputs": [],
   "source": [
    "from statistical_summarize import run_word_frequency_summarization, run_tf_idf_summarization"
   ]
  },
  {
   "cell_type": "code",
   "execution_count": 23,
   "metadata": {},
   "outputs": [
    {
     "data": {
      "text/plain": [
       "'Here are five of the most stressful moments of the night. 1. She then went on to execute a snub of her own, when she broke from protocol and introduced Trump to the chamber with an amended introduction. \"Members of Congress, the President of the United States,\" Pelosi said. 2. 3. 4. Guttenberg later apologized on Twitter, saying he \"let my emotions get the best of me.\" 5. In one final gesture of division between Democrats and Republicans, Pelosi stood at the end of Trump\\'s address and tore up the transcript of his speech. Speaking to reporters after she left the gallery, Pelosi said: \"He shredded the truth, so I shredded his speech.\" '"
      ]
     },
     "execution_count": 23,
     "metadata": {},
     "output_type": "execute_result"
    }
   ],
   "source": [
    "run_word_frequency_summarization(text, num_sentences=11)"
   ]
  },
  {
   "cell_type": "code",
   "execution_count": 22,
   "metadata": {},
   "outputs": [
    {
     "data": {
      "text/plain": [
       "'Here are five of the most stressful moments of the night. 1. Pelosi visibly pursed her lips at the awkward exchange. She then went on to execute a snub of her own, when she broke from protocol and introduced Trump to the chamber with an amended introduction. 2. The night was filled with dozens of standing ovations and cheers from Republican supporters of Trump. But there were a few moments of audible groans or refusals to clap from Democrats as well. 3. 4. 5. '"
      ]
     },
     "execution_count": 22,
     "metadata": {},
     "output_type": "execute_result"
    }
   ],
   "source": [
    "run_tf_idf_summarization(text, num_sentences=10)"
   ]
  },
  {
   "cell_type": "markdown",
   "metadata": {},
   "source": [
    "### Sentiment Analysis"
   ]
  },
  {
   "cell_type": "code",
   "execution_count": 4,
   "metadata": {},
   "outputs": [],
   "source": [
    "from sentiment_analysis import flair_topn_sentiment"
   ]
  },
  {
   "cell_type": "code",
   "execution_count": 9,
   "metadata": {},
   "outputs": [
    {
     "name": "stdout",
     "output_type": "stream",
     "text": [
      "2020-08-16 16:36:32,128 loading file /Users/jackweissenberger/.flair/models/sentiment-en-mix-distillbert.pt\n",
      "2020-08-16 16:36:32,829 loading file /Users/jackweissenberger/.flair/models/sentiment-en-mix-distillbert.pt\n",
      "2020-08-16 16:36:33,504 loading file /Users/jackweissenberger/.flair/models/sentiment-en-mix-distillbert.pt\n",
      "2020-08-16 16:36:34,159 loading file /Users/jackweissenberger/.flair/models/sentiment-en-mix-distillbert.pt\n",
      "2020-08-16 16:36:34,921 loading file /Users/jackweissenberger/.flair/models/sentiment-en-mix-distillbert.pt\n",
      "2020-08-16 16:36:35,582 loading file /Users/jackweissenberger/.flair/models/sentiment-en-mix-distillbert.pt\n",
      "2020-08-16 16:36:36,261 loading file /Users/jackweissenberger/.flair/models/sentiment-en-mix-distillbert.pt\n",
      "2020-08-16 16:36:36,908 loading file /Users/jackweissenberger/.flair/models/sentiment-en-mix-distillbert.pt\n",
      "2020-08-16 16:36:37,557 loading file /Users/jackweissenberger/.flair/models/sentiment-en-mix-distillbert.pt\n",
      "2020-08-16 16:36:38,208 loading file /Users/jackweissenberger/.flair/models/sentiment-en-mix-distillbert.pt\n",
      "2020-08-16 16:36:38,854 loading file /Users/jackweissenberger/.flair/models/sentiment-en-mix-distillbert.pt\n",
      "2020-08-16 16:36:39,506 loading file /Users/jackweissenberger/.flair/models/sentiment-en-mix-distillbert.pt\n",
      "2020-08-16 16:36:40,165 loading file /Users/jackweissenberger/.flair/models/sentiment-en-mix-distillbert.pt\n",
      "2020-08-16 16:36:41,243 loading file /Users/jackweissenberger/.flair/models/sentiment-en-mix-distillbert.pt\n",
      "2020-08-16 16:36:41,893 loading file /Users/jackweissenberger/.flair/models/sentiment-en-mix-distillbert.pt\n",
      "2020-08-16 16:36:42,545 loading file /Users/jackweissenberger/.flair/models/sentiment-en-mix-distillbert.pt\n",
      "2020-08-16 16:36:43,206 loading file /Users/jackweissenberger/.flair/models/sentiment-en-mix-distillbert.pt\n",
      "2020-08-16 16:36:43,861 loading file /Users/jackweissenberger/.flair/models/sentiment-en-mix-distillbert.pt\n",
      "2020-08-16 16:36:44,612 loading file /Users/jackweissenberger/.flair/models/sentiment-en-mix-distillbert.pt\n",
      "2020-08-16 16:36:45,245 loading file /Users/jackweissenberger/.flair/models/sentiment-en-mix-distillbert.pt\n"
     ]
    }
   ],
   "source": [
    "top_positive, top_negative = flair_topn_sentiment(text, num_sentences=3)"
   ]
  },
  {
   "cell_type": "code",
   "execution_count": 14,
   "metadata": {},
   "outputs": [
    {
     "name": "stdout",
     "output_type": "stream",
     "text": [
      "Score: 0.8758341670036316 \n",
      "Sentence: Here are five of the most stressful moments of the night. \n",
      "\n",
      "\n",
      "Score: 0.988013505935669 \n",
      "Sentence: The standard introduction for a State of the Union is: \"Members of Congress, I have the high privilege and distinct honor of presenting to you the President of the United States.\" \n",
      "\n",
      "\n",
      "Score: 0.9889174699783325 \n",
      "Sentence: The night was filled with dozens of standing ovations and cheers from Republican supporters of Trump. \n",
      "\n",
      "\n"
     ]
    }
   ],
   "source": [
    "for i in top_positive:\n",
    "    print(\"Score:\", i[0], \"\\nSentence:\", i[1], \"\\n\\n\")"
   ]
  },
  {
   "cell_type": "code",
   "execution_count": 15,
   "metadata": {},
   "outputs": [
    {
     "name": "stdout",
     "output_type": "stream",
     "text": [
      "Score: 0.998066246509552 \n",
      "Sentence: For example, as Trump touted his administration's economy and job growth and slammed the \"failed\" economic policies of the Obama administration, Democrats throughout the gallery jeered and shook their heads. \n",
      "\n",
      "\n",
      "Score: 0.9985339641571045 \n",
      "Sentence: Speaking to reporters after she left the gallery, Pelosi said: \"He shredded the truth, so I shredded his speech.\" \n",
      "\n",
      "\n",
      "Score: 0.9999030828475952 \n",
      "Sentence: In one final gesture of division between Democrats and Republicans, Pelosi stood at the end of Trump's address and tore up the transcript of his speech. \n",
      "\n",
      "\n"
     ]
    }
   ],
   "source": [
    "for i in top_negative:\n",
    "    print(\"Score:\", i[0], \"\\nSentence:\", i[1], \"\\n\\n\")"
   ]
  },
  {
   "cell_type": "code",
   "execution_count": null,
   "metadata": {},
   "outputs": [],
   "source": [
    "# TODO average overall sentiment"
   ]
  },
  {
   "cell_type": "markdown",
   "metadata": {},
   "source": [
    "### Subjectivity Analysis"
   ]
  },
  {
   "cell_type": "code",
   "execution_count": null,
   "metadata": {},
   "outputs": [],
   "source": [
    "# TODO This will be similar to sentiment analysis but it will be for which sentences are most subjective and most objective"
   ]
  },
  {
   "cell_type": "code",
   "execution_count": null,
   "metadata": {},
   "outputs": [],
   "source": []
  }
 ],
 "metadata": {
  "kernelspec": {
   "display_name": "Python 3",
   "language": "python",
   "name": "python3"
  },
  "language_info": {
   "codemirror_mode": {
    "name": "ipython",
    "version": 3
   },
   "file_extension": ".py",
   "mimetype": "text/x-python",
   "name": "python",
   "nbconvert_exporter": "python",
   "pygments_lexer": "ipython3",
   "version": "3.7.7"
  }
 },
 "nbformat": 4,
 "nbformat_minor": 4
}
